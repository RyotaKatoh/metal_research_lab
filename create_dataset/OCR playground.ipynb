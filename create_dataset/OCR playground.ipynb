{
 "cells": [
  {
   "cell_type": "code",
   "execution_count": 1,
   "metadata": {
    "collapsed": true
   },
   "outputs": [],
   "source": [
    "from PIL import Image\n",
    "import sys\n",
    "\n",
    "import pyocr\n",
    "import pyocr.builders"
   ]
  },
  {
   "cell_type": "code",
   "execution_count": 2,
   "metadata": {
    "collapsed": true
   },
   "outputs": [],
   "source": [
    "tools = pyocr.get_available_tools()"
   ]
  },
  {
   "cell_type": "code",
   "execution_count": 3,
   "metadata": {
    "collapsed": true
   },
   "outputs": [],
   "source": [
    "if len(tools) == 0:\n",
    "    print('please install tesseract')\n",
    "    print('brew install tesseract')"
   ]
  },
  {
   "cell_type": "markdown",
   "metadata": {},
   "source": [
    "tesseractがインストールされてない場合はhomebrew使ってインストールしてください"
   ]
  },
  {
   "cell_type": "code",
   "execution_count": null,
   "metadata": {
    "collapsed": true
   },
   "outputs": [],
   "source": [
    ""
   ]
  },
  {
   "cell_type": "code",
   "execution_count": 4,
   "metadata": {
    "collapsed": true
   },
   "outputs": [],
   "source": [
    "tool = tools[0]"
   ]
  },
  {
   "cell_type": "code",
   "execution_count": 5,
   "metadata": {
    "collapsed": true
   },
   "outputs": [],
   "source": [
    "langs = tool.get_available_languages()"
   ]
  },
  {
   "cell_type": "code",
   "execution_count": 6,
   "metadata": {},
   "outputs": [
    {
     "data": {
      "text/plain": [
       "['eng', 'osd']"
      ]
     },
     "execution_count": 6,
     "metadata": {},
     "output_type": "execute_result"
    }
   ],
   "source": [
    "langs"
   ]
  },
  {
   "cell_type": "code",
   "execution_count": 7,
   "metadata": {
    "collapsed": true
   },
   "outputs": [],
   "source": [
    "lang = langs[0]"
   ]
  },
  {
   "cell_type": "code",
   "execution_count": 8,
   "metadata": {
    "collapsed": true
   },
   "outputs": [],
   "source": [
    "def run_ocr(image_path):\n",
    "    txt = tool.image_to_string(\n",
    "        Image.open(image_path),\n",
    "        lang=lang,\n",
    "        builder=pyocr.builders.TextBuilder()\n",
    "    )\n",
    "    return txt.split('\\n')"
   ]
  },
  {
   "cell_type": "code",
   "execution_count": null,
   "metadata": {
    "collapsed": true
   },
   "outputs": [],
   "source": [
    ""
   ]
  },
  {
   "cell_type": "code",
   "execution_count": 9,
   "metadata": {
    "collapsed": true
   },
   "outputs": [],
   "source": [
    "special_words = ['to form a paste', 'until cloudy']"
   ]
  },
  {
   "cell_type": "code",
   "execution_count": 10,
   "metadata": {
    "collapsed": true
   },
   "outputs": [],
   "source": [
    "def parse_chemical(chemical):\n",
    "    words = chemical.split(' ')\n",
    "\n",
    "    was_digit  = False\n",
    "    chemical_name = []\n",
    "    name = ''\n",
    "    amount = 0\n",
    "    unit = ''\n",
    "    \n",
    "    # for special word\n",
    "    for w in special_words:\n",
    "        if w in chemical:\n",
    "            name = ' '.join(words[:-1*len(w.split(' '))])\n",
    "            amount = w\n",
    "            \n",
    "            return {'name': name, 'amount': amount, 'unit': unit}\n",
    "\n",
    "    for w in words:\n",
    "        if w[0].isdigit() is False and was_digit is False:\n",
    "            chemical_name.append(w)\n",
    "            continue\n",
    "        if w[0].isdigit():\n",
    "            try:\n",
    "                amount = float(w)\n",
    "            except:\n",
    "                amount = w\n",
    "            was_digit = True\n",
    "        if was_digit:\n",
    "            unit = w\n",
    "            continue\n",
    "\n",
    "    return {'name': ' '.join(chemical_name), 'amount': amount, 'unit': unit}"
   ]
  },
  {
   "cell_type": "code",
   "execution_count": 11,
   "metadata": {
    "collapsed": true
   },
   "outputs": [],
   "source": [
    "method_group_prefix = [' (A)', ' (B)', ' (A+B)', '(A and B)']"
   ]
  },
  {
   "cell_type": "code",
   "execution_count": 12,
   "metadata": {
    "collapsed": true
   },
   "outputs": [],
   "source": [
    "method_exception = ['(sulphide']"
   ]
  },
  {
   "cell_type": "code",
   "execution_count": 13,
   "metadata": {
    "collapsed": true
   },
   "outputs": [],
   "source": [
    "def parse_method(method):\n",
    "    target = ''\n",
    "    for m in method_group_prefix:\n",
    "        if m in method:\n",
    "            target = m.replace(' ', '')\n",
    "        method = method.replace(m, '')\n",
    "    \n",
    "    is_method = True\n",
    "\n",
    "    method_part = []\n",
    "    period_part = []\n",
    "    words = method.split(' ')\n",
    "    for w in words:\n",
    "        if '(' in w and w not in method_exception:\n",
    "            is_method = False\n",
    "        if is_method:\n",
    "            method_part.append(w)\n",
    "        else:\n",
    "            period_part.append(w.replace('(', '').replace(')', ''))\n",
    "        \n",
    "    method = ' '.join(method_part)\n",
    "    unit = ''\n",
    "    if len(period_part) > 0:\n",
    "        unit = period_part[-1]\n",
    "    period = ' '.join(period_part[:-1])\n",
    "    return {'name': method, 'period': period, 'unit': unit, 'target': target}"
   ]
  },
  {
   "cell_type": "code",
   "execution_count": null,
   "metadata": {
    "collapsed": true
   },
   "outputs": [],
   "source": [
    ""
   ]
  },
  {
   "cell_type": "code",
   "execution_count": 14,
   "metadata": {
    "collapsed": true
   },
   "outputs": [],
   "source": [
    "chemicals_group_prefix = ['A', 'B']\n",
    "method_group_substring = ['(A)', '(B)', '(A+B)']"
   ]
  },
  {
   "cell_type": "code",
   "execution_count": 15,
   "metadata": {
    "collapsed": true
   },
   "outputs": [],
   "source": [
    "def parse_text(text):\n",
    "    state = 0\n",
    "    json = {}\n",
    "    \n",
    "    title = ''\n",
    "    \n",
    "    chemicals = []\n",
    "    new_chemical_group = True\n",
    "    is_plural = False\n",
    "    \n",
    "    methods = []\n",
    "    \n",
    "    description = ''\n",
    "    appendixes = []\n",
    "    is_new = True\n",
    "    \n",
    "    for t in text:\n",
    "        \n",
    "        if t == '':\n",
    "            if state is not 4:\n",
    "                state += 1\n",
    "            else:\n",
    "                is_new = True\n",
    "            continue\n",
    "        \n",
    "        # avoiding strange new line.\n",
    "        if state is 4 and len(t.split(' ')) < 2:\n",
    "            state = 3\n",
    "            \n",
    "        # if chemicals is separated 2 groups, detect it.\n",
    "        if state is 2 and is_plural and t.split(' ')[0] in chemicals_group_prefix:\n",
    "            state = 1\n",
    "            \n",
    "        if state is 1:\n",
    "            if t.split(' ')[0] in chemicals_group_prefix:\n",
    "                is_plural = True\n",
    "                new_chemical_group = True\n",
    "                t = ' '.join(t.split(' ')[1:])\n",
    "            \n",
    "        # method checker\n",
    "        for sub in method_group_substring:\n",
    "            if sub in t:\n",
    "                state = 2\n",
    "        \n",
    "        if state is 0:\n",
    "            title = t\n",
    "        if state is 1:\n",
    "            if new_chemical_group:\n",
    "                chemicals.append([t])\n",
    "                new_chemical_group = False\n",
    "            else:\n",
    "                chemicals[-1].append(t)\n",
    "        if state is  2:\n",
    "            methods.append(t)\n",
    "        if state is 3:\n",
    "            if len(description) is 0:\n",
    "                description = t\n",
    "            else:\n",
    "                description += ' ' + t\n",
    "        if state is 4:\n",
    "            if is_new:\n",
    "                appendixes.append(t)\n",
    "                is_new = False\n",
    "            else:\n",
    "                appendixes[-1] += ' ' + t\n",
    "    \n",
    "    recipes = []\n",
    "    for i in range(len(chemicals)):\n",
    "        materials = []\n",
    "        for c in chemicals[i]:\n",
    "            parsed = parse_chemical(c)\n",
    "            materials.append(parsed)\n",
    "        \n",
    "        if len(chemicals) == len(methods):\n",
    "            method = parse_method(methods[i])\n",
    "        if len(methods) < len(chemicals):\n",
    "            method = parse_method(methods[i-1])\n",
    "        \n",
    "        recipes.append({'materials': materials, 'method': method})\n",
    "        \n",
    "    \n",
    "    json = {\n",
    "        'title': title,\n",
    "        'recipes': recipes,\n",
    "        'description': description,\n",
    "        'appendixes': appendixes\n",
    "    }\n",
    "    \n",
    "    return json"
   ]
  },
  {
   "cell_type": "code",
   "execution_count": null,
   "metadata": {
    "collapsed": true
   },
   "outputs": [],
   "source": [
    ""
   ]
  },
  {
   "cell_type": "code",
   "execution_count": null,
   "metadata": {
    "collapsed": true
   },
   "outputs": [],
   "source": [
    ""
   ]
  },
  {
   "cell_type": "code",
   "execution_count": 16,
   "metadata": {
    "collapsed": true
   },
   "outputs": [],
   "source": [
    "import os"
   ]
  },
  {
   "cell_type": "code",
   "execution_count": 17,
   "metadata": {
    "collapsed": true
   },
   "outputs": [],
   "source": [
    "from IPython.display import display, clear_output\n",
    "import ipywidgets as widtgets"
   ]
  },
  {
   "cell_type": "code",
   "execution_count": 268,
   "metadata": {
    "collapsed": true
   },
   "outputs": [],
   "source": [
    "dir_path = './dataset/docs_cropped/bronze_cast_2/'\n",
    "files = os.listdir(dir_path)"
   ]
  },
  {
   "cell_type": "code",
   "execution_count": 265,
   "metadata": {
    "collapsed": true
   },
   "outputs": [],
   "source": [
    "cursor = 0\n",
    "result = ''\n",
    "results = []"
   ]
  },
  {
   "cell_type": "code",
   "execution_count": null,
   "metadata": {
    "collapsed": true
   },
   "outputs": [],
   "source": [
    ""
   ]
  },
  {
   "cell_type": "code",
   "execution_count": 273,
   "metadata": {
    "collapsed": true
   },
   "outputs": [],
   "source": [
    "def check_ocr_result(b):\n",
    "    file_path = os.path.join(dir_path, files[cursor])\n",
    "    global result\n",
    "    result = run_ocr(file_path)\n",
    "    clear_output()\n",
    "    for t in result:\n",
    "        print(t)"
   ]
  },
  {
   "cell_type": "code",
   "execution_count": 274,
   "metadata": {
    "collapsed": true
   },
   "outputs": [],
   "source": [
    "def parse_result(b):\n",
    "    json = parse_text(result)\n",
    "    results.append(json)\n",
    "    \n",
    "    global cursor\n",
    "    cursor += 1\n",
    "    \n",
    "    clear_output()\n",
    "    print(results[-1]['title'])\n",
    "    print('\\nrecipes')\n",
    "    print(results[-1]['recipes'])\n",
    "    print('\\ndescription: ')\n",
    "    print(results[-1]['description'])"
   ]
  },
  {
   "cell_type": "code",
   "execution_count": 275,
   "metadata": {},
   "outputs": [
    {
     "name": "stdout",
     "output_type": "stream",
     "text": [
      "1.213 Blue-green patina on mottled light brown Semi-matt\n",
      "\n",
      "recipes\n",
      "[{'materials': [{'amount': 90.0, 'name': 'Ammonium sulphate', 'unit': 'gm'}, {'amount': 90.0, 'name': 'Copper nitrate', 'unit': 'gm'}, {'amount': 1.0, 'name': 'Ammonia (.880 solution)', 'unit': 'cm3'}, {'amount': 1.0, 'name': 'Water', 'unit': 'litre'}], 'method': {'unit': 'hours', 'name': 'Cloth technique', 'period': 'Twenty', 'target': ''}}]\n",
      "\n",
      "description: \n",
      "Soft cotton cloth which has been soaked with the solution is applied to the surface of the object, and stippled into place with a stiff bristle—brush. The object is then left for a period of about twenty hours. The cloth should be removed when it is very nearly dry, and the object then left to dry in air without washing. The blue-green patina tends to develop during the drying period. When treatment is complete and\n"
     ]
    }
   ],
   "source": [
    "check_ocr_button = widtgets.Button(description='run ocr')\n",
    "display(check_ocr_button)\n",
    "check_ocr_button.on_click(check_ocr_result)\n",
    "\n",
    "parse_text_button = widgets.Button(description='parse')\n",
    "display(parse_text_button)\n",
    "parse_text_button.on_click(parse_result)"
   ]
  },
  {
   "cell_type": "markdown",
   "metadata": {},
   "source": [
    "## memo\n",
    "1.9, 1.108, 2.107, 108は成分がないため省略"
   ]
  },
  {
   "cell_type": "markdown",
   "metadata": {},
   "source": [
    "### 手動でデータを修正する場合はここでやる"
   ]
  },
  {
   "cell_type": "code",
   "execution_count": 528,
   "metadata": {
    "collapsed": true
   },
   "outputs": [],
   "source": [
    "tmp = result"
   ]
  },
  {
   "cell_type": "code",
   "execution_count": 529,
   "metadata": {
    "scrolled": true
   },
   "outputs": [
    {
     "data": {
      "text/plain": [
       "['1.199* Grey-brown Matt',\n",
       " '',\n",
       " 'Ammonium chloride 350 gm',\n",
       " 'Copper acetate ‘ 200 gm',\n",
       " 'Water 1 litre',\n",
       " '',\n",
       " 'Cotton-wool technique (Ten to twenty hours)',\n",
       " '',\n",
       " 'Cotton-wool, moistened with the solution, is applied to the surface of the object.',\n",
       " 'This is then left for a period of ten or twenty hours, ensuring that the cotton-wool',\n",
       " 'remains moist. After the ﬁrst few hours, the surface should be periodically examined',\n",
       " 'by exposing a small portion, to check the progress. When the desired surface ﬁnish',\n",
       " 'has been reached, the object is removed, washed in cold water and allowed to dry in',\n",
       " '',\n",
       " 'air. When completely dry, it may be wax ﬁnished.']"
      ]
     },
     "execution_count": 529,
     "metadata": {},
     "output_type": "execute_result"
    }
   ],
   "source": [
    "tmp"
   ]
  },
  {
   "cell_type": "code",
   "execution_count": 530,
   "metadata": {
    "collapsed": true
   },
   "outputs": [],
   "source": [
    "tmp = [\n",
    "'1.199* Grey-brown Matt',\n",
    " '',\n",
    " 'Ammonium chloride 350 gm',\n",
    " 'Copper acetate 200 gm',\n",
    " 'Water 1 litre',\n",
    " '',\n",
    " 'Cotton-wool technique (Ten to twenty hours)',\n",
    " '',\n",
    " 'Cotton-wool, moistened with the solution, is applied to the surface of the object.',\n",
    " 'This is then left for a period of ten or twenty hours, ensuring that the cotton-wool',\n",
    " 'remains moist. After the ﬁrst few hours, the surface should be periodically examined',\n",
    " 'by exposing a small portion, to check the progress. When the desired surface ﬁnish',\n",
    " 'has been reached, the object is removed, washed in cold water and allowed to dry in',\n",
    " 'air. When completely dry, it may be wax ﬁnished.'\n",
    "]"
   ]
  },
  {
   "cell_type": "code",
   "execution_count": 531,
   "metadata": {
    "collapsed": true
   },
   "outputs": [],
   "source": [
    "result = tmp"
   ]
  },
  {
   "cell_type": "code",
   "execution_count": 532,
   "metadata": {},
   "outputs": [
    {
     "data": {
      "text/plain": [
       "{'appendixes': [],\n",
       " 'description': 'Cotton-wool, moistened with the solution, is applied to the surface of the object. This is then left for a period of ten or twenty hours, ensuring that the cotton-wool remains moist. After the ﬁrst few hours, the surface should be periodically examined by exposing a small portion, to check the progress. When the desired surface ﬁnish has been reached, the object is removed, washed in cold water and allowed to dry in air. When completely dry, it may be wax ﬁnished.',\n",
       " 'recipes': [{'materials': [{'amount': 350.0,\n",
       "     'name': 'Ammonium chloride',\n",
       "     'unit': 'gm'},\n",
       "    {'amount': 200.0, 'name': 'Copper acetate', 'unit': 'gm'},\n",
       "    {'amount': 1.0, 'name': 'Water', 'unit': 'litre'}],\n",
       "   'method': {'name': 'Cotton-wool technique',\n",
       "    'period': 'Ten to twenty',\n",
       "    'target': '',\n",
       "    'unit': 'hours'}}],\n",
       " 'title': '1.199* Grey-brown Matt'}"
      ]
     },
     "execution_count": 532,
     "metadata": {},
     "output_type": "execute_result"
    }
   ],
   "source": [
    "parse_text(result)"
   ]
  },
  {
   "cell_type": "code",
   "execution_count": 141,
   "metadata": {
    "collapsed": true
   },
   "outputs": [],
   "source": [
    "import json"
   ]
  },
  {
   "cell_type": "code",
   "execution_count": null,
   "metadata": {
    "collapsed": true
   },
   "outputs": [],
   "source": [
    "with open('./blass.json', 'w') as f:\n",
    "    json.dump(results, f)"
   ]
  },
  {
   "cell_type": "code",
   "execution_count": null,
   "metadata": {
    "collapsed": true
   },
   "outputs": [],
   "source": [
    ""
   ]
  },
  {
   "cell_type": "code",
   "execution_count": null,
   "metadata": {
    "collapsed": true
   },
   "outputs": [],
   "source": [
    ""
   ]
  },
  {
   "cell_type": "markdown",
   "metadata": {},
   "source": [
    "### 後処理\n",
    "- IDつける\n",
    "- 素材、手法の表記揺れ対応"
   ]
  },
  {
   "cell_type": "code",
   "execution_count": 18,
   "metadata": {
    "collapsed": true
   },
   "outputs": [],
   "source": [
    "import json"
   ]
  },
  {
   "cell_type": "code",
   "execution_count": 19,
   "metadata": {
    "collapsed": true
   },
   "outputs": [],
   "source": [
    "with open('./bronze.json', 'r') as f:\n",
    "    bronze = json.load(f)"
   ]
  },
  {
   "cell_type": "code",
   "execution_count": 56,
   "metadata": {
    "collapsed": true
   },
   "outputs": [],
   "source": [
    "with open('./blass.json', 'r') as f:\n",
    "    blass = json.load(f)"
   ]
  },
  {
   "cell_type": "code",
   "execution_count": null,
   "metadata": {},
   "outputs": [],
   "source": [
    ""
   ]
  },
  {
   "cell_type": "markdown",
   "metadata": {},
   "source": [
    "### memo\n",
    "\n",
    "1.9, 1.108, 2.107, 108は成分がないため省略"
   ]
  },
  {
   "cell_type": "code",
   "execution_count": 52,
   "metadata": {
    "collapsed": true
   },
   "outputs": [],
   "source": [
    "bronze_id = 1001\n",
    "for item in bronze['colorings']:\n",
    "    if bronze_id == 1009:\n",
    "        bronze_id += 1\n",
    "    if bronze_id == 1108:\n",
    "        bronze_id += 1\n",
    "        \n",
    "    item['id'] = bronze_id\n",
    "    bronze_id += 1"
   ]
  },
  {
   "cell_type": "code",
   "execution_count": 57,
   "metadata": {
    "collapsed": true
   },
   "outputs": [],
   "source": [
    "blass_id = 2001\n",
    "for item in blass['colorings']:\n",
    "    if blass_id == 2107:\n",
    "        blass_id += 1\n",
    "    if blass_id == 2108:\n",
    "        blass_id += 1\n",
    "    \n",
    "    item['id'] = blass_id\n",
    "    blass_id += 1"
   ]
  },
  {
   "cell_type": "code",
   "execution_count": null,
   "metadata": {},
   "outputs": [],
   "source": [
    ""
   ]
  },
  {
   "cell_type": "markdown",
   "metadata": {},
   "source": [
    "### 成分の表記揺れ対応"
   ]
  },
  {
   "cell_type": "code",
   "execution_count": 61,
   "metadata": {
    "collapsed": true
   },
   "outputs": [],
   "source": [
    "bronze_materials = []\n",
    "for item in bronze['colorings']:\n",
    "    for recipe in item['recipes']:\n",
    "        for material in recipe['materials']:\n",
    "            bronze_materials.append(material['name'])"
   ]
  },
  {
   "cell_type": "code",
   "execution_count": 63,
   "metadata": {},
   "outputs": [],
   "source": [
    "import pandas as pd"
   ]
  },
  {
   "cell_type": "code",
   "execution_count": 64,
   "metadata": {
    "collapsed": true
   },
   "outputs": [],
   "source": [
    "bronze_mat = pd.DataFrame(bronze_materials, columns=['material'])"
   ]
  },
  {
   "cell_type": "code",
   "execution_count": 67,
   "metadata": {},
   "outputs": [],
   "source": [
    "bronze_mat.groupby('material').agg({'material': 'count'}).to_excel('./material_check_bronze.xlsx')"
   ]
  },
  {
   "cell_type": "code",
   "execution_count": 94,
   "metadata": {
    "collapsed": true
   },
   "outputs": [],
   "source": [
    "blass_materials = []\n",
    "\n",
    "for item in blass['colorings']:\n",
    "    for recipe in item['recipes']:\n",
    "        for material in recipe['materials']:\n",
    "            blass_materials.append(material['name'])\n",
    "\n",
    "blass_mat = pd.DataFrame(blass_materials, columns=['material'])"
   ]
  },
  {
   "cell_type": "code",
   "execution_count": 95,
   "metadata": {
    "collapsed": true
   },
   "outputs": [],
   "source": [
    "blass_mat.groupby('material').agg({'material': 'count'}).to_excel('./material_check_blass.xlsx')"
   ]
  },
  {
   "cell_type": "code",
   "execution_count": null,
   "metadata": {
    "collapsed": true
   },
   "outputs": [],
   "source": [
    ""
   ]
  },
  {
   "cell_type": "markdown",
   "metadata": {},
   "source": [
    "## Bronze\n",
    "手修正内容:\n",
    "\n",
    "Ammonium chloride lgm -> Ammonium chloride 1 gm\n",
    "\n",
    "Ammonium Chloride -> Ammonium chloride\n",
    "\n",
    "F erric oxide -> Ferric oxide\n",
    "\n",
    "Ferric sulphate ng　-> Ferric sulphate 5 gm\n",
    "\n",
    "Water . -> Water\n",
    "\n",
    "Water to form -> Water\n",
    "\n",
    "Water to form a taste  -> Water"
   ]
  },
  {
   "cell_type": "code",
   "execution_count": 92,
   "metadata": {},
   "outputs": [
    {
     "name": "stdout",
     "output_type": "stream",
     "text": [
      "1126\n"
     ]
    }
   ],
   "source": [
    "for item in bronze['colorings']:\n",
    "    for recipe in item['recipes']:\n",
    "        for material in recipe['materials']:\n",
    "            if material['name'] == 'Water to form a taste':\n",
    "                print(item['id'])\n",
    "                material['name'] = 'Water'\n",
    "                material['amount'] = 'to form a taste'"
   ]
  },
  {
   "cell_type": "code",
   "execution_count": null,
   "metadata": {
    "collapsed": true
   },
   "outputs": [],
   "source": [
    ""
   ]
  },
  {
   "cell_type": "markdown",
   "metadata": {},
   "source": [
    "### Blass\n",
    "手修正内容\n",
    "\n",
    "Acetic acid (10% solution) llitre -> Acetic acid (10% solution) 1 litre\n",
    "\n",
    "Ammonium chloride lOgm -> Ammonium chloride 10 gm\n",
    "\n",
    "F erric sulphate -> Ferric sulphate\n",
    "\n",
    "Water to form a -> Water"
   ]
  },
  {
   "cell_type": "code",
   "execution_count": 113,
   "metadata": {},
   "outputs": [
    {
     "name": "stdout",
     "output_type": "stream",
     "text": [
      "2163\n"
     ]
    }
   ],
   "source": [
    "for item in blass['colorings']:\n",
    "    for recipe in item['recipes']:\n",
    "        for material in recipe['materials']:\n",
    "            if material['name'] == 'Water ‘':\n",
    "                print(item['id'])\n",
    "                material['name'] = 'Water'\n",
    "                # material['amount'] = ''\n",
    "                # material['unit'] = 'gm'"
   ]
  },
  {
   "cell_type": "code",
   "execution_count": null,
   "metadata": {
    "collapsed": true
   },
   "outputs": [],
   "source": [
    ""
   ]
  },
  {
   "cell_type": "code",
   "execution_count": null,
   "metadata": {
    "collapsed": true
   },
   "outputs": [],
   "source": [
    ""
   ]
  },
  {
   "cell_type": "code",
   "execution_count": null,
   "metadata": {
    "collapsed": true
   },
   "outputs": [],
   "source": [
    ""
   ]
  },
  {
   "cell_type": "markdown",
   "metadata": {},
   "source": [
    "### 手法の表記揺れ対応"
   ]
  },
  {
   "cell_type": "code",
   "execution_count": 127,
   "metadata": {
    "collapsed": true
   },
   "outputs": [],
   "source": [
    "bronze_methods = []\n",
    "for item in bronze['colorings']:\n",
    "    for recipe in item['recipes']:\n",
    "        bronze_methods.append(recipe['method']['name'])"
   ]
  },
  {
   "cell_type": "code",
   "execution_count": 128,
   "metadata": {},
   "outputs": [],
   "source": [
    "bronze_methods_mat = pd.DataFrame(bronze_methods, columns=['method'])\n",
    "bronze_methods_mat.groupby('method').agg({'method': 'count'}).to_excel('./method_check_bronze.xlsx')"
   ]
  },
  {
   "cell_type": "markdown",
   "metadata": {},
   "source": [
    "### bronze\n",
    "\n",
    "Cold scratch—brushing -> Cold scratch-brushing\n",
    "\n",
    "Cotton-Wool technique -> Cotton-wool technique\n",
    "\n",
    "Cotton~wool technique ->\n",
    "\n",
    "Cotton—wool technique ->\n",
    "\n",
    "Hot immersion and scratCh-brushing -> Hot immersion and scratch-brushing"
   ]
  },
  {
   "cell_type": "code",
   "execution_count": 126,
   "metadata": {},
   "outputs": [
    {
     "name": "stdout",
     "output_type": "stream",
     "text": [
      "1083\n"
     ]
    }
   ],
   "source": [
    "for item in bronze['colorings']:\n",
    "    for recipe in item['recipes']:\n",
    "        if recipe['method']['name'] == 'Hot immersion and scratCh-brushing':\n",
    "            print(item['id'])\n",
    "            recipe['method']['name'] = 'Hot immersion and scratch-brushing'"
   ]
  },
  {
   "cell_type": "code",
   "execution_count": null,
   "metadata": {
    "collapsed": true
   },
   "outputs": [],
   "source": [
    ""
   ]
  },
  {
   "cell_type": "code",
   "execution_count": 129,
   "metadata": {
    "collapsed": true
   },
   "outputs": [],
   "source": [
    "blass_methods = []\n",
    "for item in blass['colorings']:\n",
    "    for recipe in item['recipes']:\n",
    "        blass_methods.append(recipe['method']['name'])\n",
    "        \n",
    "blass_methods_mat = pd.DataFrame(blass_methods, columns=['method'])\n",
    "blass_methods_mat.groupby('method').agg({'method': 'count'}).to_excel('./method_check_blass.xlsx')"
   ]
  },
  {
   "cell_type": "markdown",
   "metadata": {},
   "source": [
    "### Blass\n",
    "\n",
    "Boiling immersion, scratch—brushing -> Boiling immersion and scratch-brushing\n",
    "\n",
    "Cold scratch—brushing -> Cold scratch-brushing\n",
    "\n",
    "Cotton—wool technique -> Cotton-wool technique\n",
    "\n",
    "Hot immersion . -> Hot immersion\n",
    "\n",
    "Torch technique -> Torch technique "
   ]
  },
  {
   "cell_type": "code",
   "execution_count": 134,
   "metadata": {},
   "outputs": [
    {
     "name": "stdout",
     "output_type": "stream",
     "text": [
      "2075\n",
      "2075\n",
      "2084\n",
      "2084\n"
     ]
    }
   ],
   "source": [
    "for item in blass['colorings']:\n",
    "    for recipe in item['recipes']:\n",
    "        if recipe['method']['name'] == 'Torch technique ':\n",
    "            print(item['id'])\n",
    "            recipe['method']['name'] = 'Torch technique'"
   ]
  },
  {
   "cell_type": "code",
   "execution_count": null,
   "metadata": {
    "collapsed": true
   },
   "outputs": [],
   "source": [
    ""
   ]
  },
  {
   "cell_type": "code",
   "execution_count": 139,
   "metadata": {
    "collapsed": true
   },
   "outputs": [],
   "source": [
    "with open('bronze.json', 'w') as f:\n",
    "    json.dump(bronze, f)"
   ]
  },
  {
   "cell_type": "code",
   "execution_count": 140,
   "metadata": {
    "collapsed": true
   },
   "outputs": [],
   "source": [
    "with open('blass.json', 'w') as f:\n",
    "    json.dump(blass, f)"
   ]
  },
  {
   "cell_type": "code",
   "execution_count": null,
   "metadata": {
    "collapsed": true
   },
   "outputs": [],
   "source": [
    ""
   ]
  },
  {
   "cell_type": "code",
   "execution_count": null,
   "metadata": {
    "collapsed": true
   },
   "outputs": [],
   "source": [
    ""
   ]
  },
  {
   "cell_type": "code",
   "execution_count": null,
   "metadata": {
    "collapsed": true
   },
   "outputs": [],
   "source": [
    ""
   ]
  }
 ],
 "metadata": {
  "kernelspec": {
   "display_name": "Python 3",
   "language": "python",
   "name": "python3"
  },
  "language_info": {
   "codemirror_mode": {
    "name": "ipython",
    "version": 3.0
   },
   "file_extension": ".py",
   "mimetype": "text/x-python",
   "name": "python",
   "nbconvert_exporter": "python",
   "pygments_lexer": "ipython3",
   "version": "3.5.1"
  }
 },
 "nbformat": 4,
 "nbformat_minor": 0
}